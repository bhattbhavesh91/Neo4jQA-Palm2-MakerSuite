{
  "cells": [
    {
      "cell_type": "markdown",
      "source": [
        "# Q&A Based Neo4j Database ChatBot using Google'PaLM 2 Model by Bhavesh\n",
        "[**Link to my YouTube Channel**](https://www.youtube.com/BhaveshBhatt8791?sub_confirmation=1)"
      ],
      "metadata": {
        "id": "c3PyKWei2NvR"
      }
    },
    {
      "cell_type": "markdown",
      "source": [
        "# Installs"
      ],
      "metadata": {
        "id": "NN54lbuS3HGp"
      }
    },
    {
      "cell_type": "code",
      "execution_count": null,
      "metadata": {
        "id": "kWIuwKG2_oWE"
      },
      "outputs": [],
      "source": [
        "!pip install google-generativeai\n",
        "!pip install -q neo4j-driver\n",
        "!pip install -q gradio"
      ]
    },
    {
      "cell_type": "markdown",
      "source": [
        "# Imports"
      ],
      "metadata": {
        "id": "8PUiEtL_3Ir4"
      }
    },
    {
      "cell_type": "code",
      "source": [
        "import google.generativeai as palm\n",
        "import base64\n",
        "import json\n",
        "import gradio as gr\n",
        "from neo4j import GraphDatabase\n",
        "import re"
      ],
      "metadata": {
        "id": "WCdMGXYmBGa1"
      },
      "execution_count": null,
      "outputs": []
    },
    {
      "cell_type": "markdown",
      "source": [
        "# API Key"
      ],
      "metadata": {
        "id": "Ol9L6OsS3PUs"
      }
    },
    {
      "cell_type": "code",
      "execution_count": null,
      "metadata": {
        "id": "_SvYoR3WCeKr"
      },
      "outputs": [],
      "source": [
        "palm.configure(api_key = \"Enter Your API Key\")"
      ]
    },
    {
      "cell_type": "markdown",
      "source": [
        "# Helper Functions"
      ],
      "metadata": {
        "id": "yigAV2ji3e1e"
      }
    },
    {
      "cell_type": "code",
      "source": [
        "def get_answer(input):\n",
        "\n",
        "    defaults = {\n",
        "  'model': 'models/text-bison-001',\n",
        "  'temperature': 0.7,\n",
        "  'candidate_count': 1,\n",
        "  'top_k': 40,\n",
        "  'top_p': 0.95,\n",
        "  'max_output_tokens': 1024,\n",
        "  'stop_sequences': [],\n",
        "  'safety_settings': [{\"category\":\"HARM_CATEGORY_DEROGATORY\",\"threshold\":1},{\"category\":\"HARM_CATEGORY_TOXICITY\",\"threshold\":1},{\"category\":\"HARM_CATEGORY_VIOLENCE\",\"threshold\":2},{\"category\":\"HARM_CATEGORY_SEXUAL\",\"threshold\":2},{\"category\":\"HARM_CATEGORY_MEDICAL\",\"threshold\":2},{\"category\":\"HARM_CATEGORY_DANGEROUS\",\"threshold\":2}],\n",
        "    }\n",
        "\n",
        "    prompt = f\"\"\"You are an expert in converting English questions to Neo4j Cypher Graph code! The Graph has following Node Labels - Movie, Person and the Movie Node label has the following properties released, tagline, title and the Graph has the following Relationship types ACTED_IN, DIRECTED, FOLLOWS, PRODUCED, REVIEWED, WROTE!\n",
        "\n",
        "    All relationships ACTED_IN, DIRECTED, FOLLOWS, PRODUCED, REVIEWED, WROTE start from Person to Movie and not the other way around.\n",
        "\n",
        "    For example,\n",
        "    Example 1 - List down 5 movies that released after the year 2000, the Cypher command will be something like this\n",
        "    ``` MATCH (m:Movie)\n",
        "    WHERE m.released > 2000\n",
        "    RETURN m LIMIT 5\n",
        "    ```\n",
        "\n",
        "    Example 2 - Get all the people who acted in a movie that was released after 2010.\n",
        "    ```\n",
        "    MATCH (p:Person)-[r:ACTED_IN]-(m:Movie)\n",
        "    WHERE m.released > 2010\n",
        "    RETURN p,r,m\n",
        "    ```\n",
        "\n",
        "    Example 3 - Name the Director of the movie The Matrix Reloaded?\n",
        "    ```\n",
        "    MATCH (m:Movie)<-[:DIRECTED]-(p:Person)\n",
        "    WHERE m.title = 'Apollo 13'\n",
        "    RETURN p.name\n",
        "    ```\n",
        "\n",
        "    Dont include ``` and \\n in the output\n",
        "\n",
        "    {input}\"\"\"\n",
        "    response = palm.generate_text(**defaults, prompt=prompt)\n",
        "    return response.result"
      ],
      "metadata": {
        "id": "E4N28-caJeiE"
      },
      "execution_count": null,
      "outputs": []
    },
    {
      "cell_type": "code",
      "source": [
        "def extract_query_and_return_key(input_query_result):\n",
        "    slash_n_pattern = r'[ \\n]+'\n",
        "    ret_pattern = r'RETURN\\s+(.*)'\n",
        "    replacement = ' '\n",
        "\n",
        "    cleaned_query = re.sub(slash_n_pattern, replacement, input_query_result)\n",
        "    if cleaned_query:\n",
        "        match = re.search(ret_pattern, cleaned_query)\n",
        "        if match:\n",
        "            extracted_string = match.group(1)\n",
        "        else:\n",
        "            extracted_string = \"\"\n",
        "    return cleaned_query, extracted_string"
      ],
      "metadata": {
        "id": "Q6-mzSI4J1TZ"
      },
      "execution_count": null,
      "outputs": []
    },
    {
      "cell_type": "code",
      "source": [
        "def format_names_with_ampersand(names):\n",
        "    if len(names) == 0:\n",
        "        return \"\"\n",
        "    elif len(names) == 1:\n",
        "        return names[0]\n",
        "    else:\n",
        "        formatted_names = \", \".join(names[:-1]) + \" & \" + names[-1]\n",
        "        return formatted_names"
      ],
      "metadata": {
        "id": "H94gYGQf3xbE"
      },
      "execution_count": null,
      "outputs": []
    },
    {
      "cell_type": "code",
      "source": [
        "def run_cypher_on_neo4j(inp_query, inp_key):\n",
        "    out_list = []\n",
        "    with driver.session() as session:\n",
        "        result = session.run(inp_query)\n",
        "        for record in result:\n",
        "            out_list.append(record[inp_key])\n",
        "    driver.close()\n",
        "    if len(out_list) > 1:\n",
        "        return format_names_with_ampersand(out_list)\n",
        "    else:\n",
        "        return out_list[0]"
      ],
      "metadata": {
        "id": "M-UiTgxt3z4N"
      },
      "execution_count": null,
      "outputs": []
    },
    {
      "cell_type": "code",
      "source": [
        "def generate_and_exec_cypher(input_query):\n",
        "    gen_query, gen_key = extract_query_and_return_key(get_answer(input_query))\n",
        "    return run_cypher_on_neo4j(gen_query, gen_key)"
      ],
      "metadata": {
        "id": "XWZxrzid4n3k"
      },
      "execution_count": null,
      "outputs": []
    },
    {
      "cell_type": "code",
      "source": [
        "def chatbot(input, history=[]):\n",
        "    output = str(generate_and_exec_cypher(input))\n",
        "    history.append((input, output))\n",
        "    return history, history"
      ],
      "metadata": {
        "id": "IJsSnkrF4zqQ"
      },
      "execution_count": null,
      "outputs": []
    },
    {
      "cell_type": "markdown",
      "source": [
        "# Initialize Driver"
      ],
      "metadata": {
        "id": "rDKVGFYB5CEm"
      }
    },
    {
      "cell_type": "code",
      "source": [
        "driver = GraphDatabase.driver(\"Bolt URL\",\n",
        "                              auth=(\"Username\",\n",
        "                                    \"Password\"))"
      ],
      "metadata": {
        "id": "Ot_mEa4jJo3O"
      },
      "execution_count": null,
      "outputs": []
    },
    {
      "cell_type": "markdown",
      "source": [
        "# Launch Gradio Interface"
      ],
      "metadata": {
        "id": "DclDEcma7fCm"
      }
    },
    {
      "cell_type": "code",
      "source": [
        "gr.Interface(fn = chatbot,\n",
        "             inputs = [\"text\",'state'],\n",
        "             outputs = [\"chatbot\",'state']).launch(debug = True)"
      ],
      "metadata": {
        "id": "Q3vNUUZI4wl2"
      },
      "execution_count": null,
      "outputs": []
    },
    {
      "cell_type": "code",
      "source": [],
      "metadata": {
        "id": "ba1LiTGw4woD"
      },
      "execution_count": null,
      "outputs": []
    }
  ],
  "metadata": {
    "colab": {
      "provenance": []
    },
    "kernelspec": {
      "display_name": "Python 3",
      "name": "python3"
    }
  },
  "nbformat": 4,
  "nbformat_minor": 0
}