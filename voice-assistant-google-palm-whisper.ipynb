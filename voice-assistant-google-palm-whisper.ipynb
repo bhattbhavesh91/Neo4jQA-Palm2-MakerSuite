{
  "nbformat": 4,
  "nbformat_minor": 0,
  "metadata": {
    "colab": {
      "provenance": [],
      "gpuType": "T4"
    },
    "kernelspec": {
      "name": "python3",
      "display_name": "Python 3"
    },
    "language_info": {
      "name": "python"
    },
    "accelerator": "GPU"
  },
  "cells": [
    {
      "cell_type": "code",
      "execution_count": null,
      "metadata": {
        "id": "htY9AAimPofk"
      },
      "outputs": [],
      "source": [
        "!pip install google-generativeai\n",
        "!pip install -q neo4j-driver\n",
        "!pip install -q gradio\n",
        "!pip install -q git+https://github.com/openai/whisper.git\n",
        "!pip install -q gTTS"
      ]
    },
    {
      "cell_type": "code",
      "source": [
        "import google.generativeai as palm\n",
        "import base64\n",
        "import json\n",
        "import gradio as gr\n",
        "import whisper\n",
        "import time\n",
        "import warnings\n",
        "import os\n",
        "import re\n",
        "from gtts import gTTS\n",
        "from neo4j import GraphDatabase"
      ],
      "metadata": {
        "id": "aQKDAKnbPKhK"
      },
      "execution_count": null,
      "outputs": []
    },
    {
      "cell_type": "code",
      "source": [
        "warnings.filterwarnings(\"ignore\")"
      ],
      "metadata": {
        "id": "mmosRBcV8bSl"
      },
      "execution_count": null,
      "outputs": []
    },
    {
      "cell_type": "code",
      "source": [
        "palm.configure(\"Enter your API key here\")"
      ],
      "metadata": {
        "id": "3LaQ0prWPfFd"
      },
      "execution_count": null,
      "outputs": []
    },
    {
      "cell_type": "code",
      "source": [
        "def get_answer(input):\n",
        "\n",
        "    defaults = {\n",
        "    'model': 'models/text-bison-001',\n",
        "    'temperature': 0.7,\n",
        "    'candidate_count': 1,\n",
        "    'top_k': 40,\n",
        "    'top_p': 0.95,\n",
        "    'max_output_tokens': 1024,\n",
        "    'stop_sequences': [],\n",
        "    'safety_settings': [{\"category\":\"HARM_CATEGORY_DEROGATORY\",\"threshold\":1},{\"category\":\"HARM_CATEGORY_TOXICITY\",\"threshold\":1},{\"category\":\"HARM_CATEGORY_VIOLENCE\",\"threshold\":2},{\"category\":\"HARM_CATEGORY_SEXUAL\",\"threshold\":2},{\"category\":\"HARM_CATEGORY_MEDICAL\",\"threshold\":2},{\"category\":\"HARM_CATEGORY_DANGEROUS\",\"threshold\":2}],\n",
        "    }\n",
        "\n",
        "    prompt = f\"\"\"You are an expert in converting English questions to Neo4j Cypher Graph code! The Graph has following Node Labels - Movie, Person and the Movie Node label has the following properties - released, tagline, title, the Person Node label has the following properties - name and born and the Graph has the following Relationship types ACTED_IN, DIRECTED, FOLLOWS, PRODUCED, REVIEWED, WROTE!\n",
        "\n",
        "    All relationships ACTED_IN, DIRECTED, FOLLOWS, PRODUCED, REVIEWED, WROTE start from Person Nodes to the Movie Nodes and not the other way around.\n",
        "\n",
        "    For example,\n",
        "    Example 1 - List down 5 movies that released after the year 2000, the Cypher command will be something like this\n",
        "    ``` MATCH (m:Movie)\n",
        "        WHERE m.released > 2000\n",
        "        RETURN m LIMIT 5\n",
        "    ```\n",
        "    Example 2 - Get all the people who acted in a movie that was released after 2010.\n",
        "        ```\n",
        "        MATCH (p:Person)-[r:ACTED_IN]-(m:Movie)\n",
        "        WHERE m.released > 2010\n",
        "        RETURN p,r,m\n",
        "        ```\n",
        "    Example 3 - Name the Director of the movie Apollo 13?\n",
        "        ```\n",
        "        MATCH (m:Movie)<-[:DIRECTED]-(p:Person)\n",
        "        WHERE m.title = 'Apollo 13'\n",
        "        RETURN p.name\n",
        "        ```\n",
        "    Dont include ``` and \\n in the output\n",
        "\n",
        "    {input}\n",
        "\n",
        "    \"\"\"\n",
        "    response = palm.generate_text(**defaults, prompt=prompt)\n",
        "    return response.result"
      ],
      "metadata": {
        "id": "oze8OoauPr7o"
      },
      "execution_count": null,
      "outputs": []
    },
    {
      "cell_type": "code",
      "source": [
        "def format_names_with_ampersand(names):\n",
        "    \"\"\"\n",
        "    Formats a list of names with an ampersand (&) between the last two names.\n",
        "\n",
        "    Args:\n",
        "        names (list): A list of names to be formatted.\n",
        "\n",
        "    Returns:\n",
        "        str: Formatted names as a string.\n",
        "    \"\"\"\n",
        "    if len(names) == 0:\n",
        "        return \"\"  # Return an empty string if the list is empty\n",
        "    elif len(names) == 1:\n",
        "        return names[0]  # Return the single name if only one name is in the list\n",
        "    else:\n",
        "        # Join all names except the last one with a comma, add an ampersand (&), and then add the last name\n",
        "        formatted_names = \", \".join(names[:-1]) + \" & \" + names[-1]\n",
        "        return formatted_names  # Return the formatted names string"
      ],
      "metadata": {
        "id": "ri6ik0yE84xm"
      },
      "execution_count": null,
      "outputs": []
    },
    {
      "cell_type": "code",
      "source": [
        "def extract_query_and_return_key(input_query_result):\n",
        "    \"\"\"\n",
        "    Extracts a cleaned query and the extracted string from a given input query result.\n",
        "\n",
        "    Args:\n",
        "        input_query_result (str): The input query result string.\n",
        "\n",
        "    Returns:\n",
        "        tuple: A tuple containing the cleaned query string and the extracted string.\n",
        "    \"\"\"\n",
        "    slash_n_pattern = r'[ \\n]+'  # Regular expression pattern to match spaces and newlines\n",
        "    ret_pattern = r'RETURN\\s+(.*)'  # Regular expression pattern to match 'RETURN' keyword and following text\n",
        "    replacement = ' '  # Replacement string for removing spaces and newlines\n",
        "\n",
        "    # Replace spaces and newlines with the replacement string in the input query result\n",
        "    cleaned_query = re.sub(slash_n_pattern, replacement, input_query_result)\n",
        "\n",
        "    if cleaned_query:\n",
        "        # Search for the pattern that matches 'RETURN' keyword and following text in the cleaned query\n",
        "        match = re.search(ret_pattern, cleaned_query)\n",
        "        if match:\n",
        "            extracted_string = match.group(1)  # Extract the matched text after 'RETURN'\n",
        "        else:\n",
        "            extracted_string = \"\"  # Set extracted_string as an empty string if 'RETURN' pattern is not found\n",
        "    else:\n",
        "        extracted_string = \"\"  # Set extracted_string as an empty string if cleaned_query is empty\n",
        "\n",
        "    return cleaned_query, extracted_string  # Return the cleaned query and the extracted string as a tuple"
      ],
      "metadata": {
        "id": "EskF45O882oU"
      },
      "execution_count": null,
      "outputs": []
    },
    {
      "cell_type": "code",
      "source": [
        "def run_cypher_on_neo4j(inp_query, inp_key):\n",
        "    \"\"\"\n",
        "    Runs a Cypher query on a Neo4j database, extracts values using the given key, and formats the output.\n",
        "\n",
        "    Args:\n",
        "        inp_query (str): The Cypher query to run on the Neo4j database.\n",
        "        inp_key (str): The key to extract values from the query result.\n",
        "\n",
        "    Returns:\n",
        "        str: Formatted output containing the extracted values.\n",
        "    \"\"\"\n",
        "    out_list = []  # Initialize an empty list to store extracted values\n",
        "\n",
        "    # Establish a connection to the Neo4j database using the driver\n",
        "    driver = GraphDatabase.driver(\"bolt://localhost:7687\", auth=(\"username\", \"password\"))\n",
        "\n",
        "    # Open a session to run the Cypher query and process the result\n",
        "    with driver.session() as session:\n",
        "        result = session.run(inp_query)  # Execute the Cypher query\n",
        "        for record in result:\n",
        "            out_list.append(record[inp_key])  # Extract and store values using the provided key\n",
        "\n",
        "    driver.close()  # Close the database connection\n",
        "\n",
        "    if len(out_list) > 1:\n",
        "        # If there are multiple values, format them using the 'format_names_with_ampersand' function\n",
        "        return format_names_with_ampersand(out_list)\n",
        "    else:\n",
        "        # If there's only one value, return it directly\n",
        "        return out_list[0]\n"
      ],
      "metadata": {
        "id": "5HrXzD1c87FI"
      },
      "execution_count": null,
      "outputs": []
    },
    {
      "cell_type": "code",
      "source": [
        "def generate_and_exec_cypher(input_query):\n",
        "    \"\"\"\n",
        "    Generates and executes a Cypher query based on the input query, extracts values, and returns formatted output.\n",
        "\n",
        "    Args:\n",
        "        input_query (str): The input query for generating the Cypher query.\n",
        "\n",
        "    Returns:\n",
        "        str: Formatted output containing the extracted values from the executed Cypher query.\n",
        "    \"\"\"\n",
        "    # Generate a Cypher query and extract key using the 'get_answer' and 'extract_query_and_return_key' functions\n",
        "    gen_query, gen_key = extract_query_and_return_key(get_answer(input_query))\n",
        "\n",
        "    # Execute the generated Cypher query and extract values using the 'run_cypher_on_neo4j' function\n",
        "    return run_cypher_on_neo4j(gen_query, gen_key)"
      ],
      "metadata": {
        "id": "_5W9tL-e9BkQ"
      },
      "execution_count": null,
      "outputs": []
    },
    {
      "cell_type": "code",
      "source": [
        "from gtts import gTTS  # Import the gTTS module for text-to-speech conversion\n",
        "\n",
        "def transcribe(audio):\n",
        "    \"\"\"\n",
        "    Transcribes audio, detects language, generates and executes Cypher query,\n",
        "    and saves a text-to-speech audio file.\n",
        "\n",
        "    Args:\n",
        "        audio (str): Path to the audio file for transcription.\n",
        "\n",
        "    Returns:\n",
        "        list: A list containing the result text, Cypher query result, and audio file path.\n",
        "    \"\"\"\n",
        "    language = 'en'  # Language for text-to-speech conversion\n",
        "    result_text = ''  # Initialize variable to store transcription result\n",
        "    out_result = ''  # Initialize variable to store Cypher query result\n",
        "    if audio:\n",
        "        audio = whisper.load_audio(audio)  # Load audio using whisper library\n",
        "        audio = whisper.pad_or_trim(audio)  # Pad or trim audio to a consistent length\n",
        "\n",
        "        mel = whisper.log_mel_spectrogram(audio).to(model.device)  # Convert audio to mel spectrogram\n",
        "\n",
        "        _, probs = model.detect_language(mel)  # Detect the language of the audio\n",
        "\n",
        "        options = whisper.DecodingOptions()\n",
        "        result = whisper.decode(model, mel, options)  # Decode the mel spectrogram to text\n",
        "        result_text = result.text  # Get the transcribed text\n",
        "        if result_text:\n",
        "            out_result = generate_and_exec_cypher(result_text)  # Generate and execute Cypher query\n",
        "\n",
        "            # Convert the Cypher query result to an audio file using gTTS\n",
        "            audioobj = gTTS(text=out_result, lang=language, slow=False)\n",
        "            audioobj.save(\"Temp.mp3\")  # Save the generated audio as \"Temp.mp3\"\n",
        "\n",
        "    # Return the result text, Cypher query result, and audio file path in a list\n",
        "    return [result_text, out_result, \"Temp.mp3\"]"
      ],
      "metadata": {
        "id": "fP4z7n7A9LnT"
      },
      "execution_count": null,
      "outputs": []
    },
    {
      "cell_type": "code",
      "source": [
        "model = whisper.load_model(\"base\")"
      ],
      "metadata": {
        "id": "6hWzX4c_8l9d"
      },
      "execution_count": null,
      "outputs": []
    },
    {
      "cell_type": "code",
      "source": [
        "model.device"
      ],
      "metadata": {
        "id": "jg8u06_Q8mGI"
      },
      "execution_count": null,
      "outputs": []
    },
    {
      "cell_type": "code",
      "source": [
        "# This command essentially creates a 10-second silent audio file\n",
        "# using the specified parameters and saves it as \"Temp.mp3.\"\n",
        "!ffmpeg -f lavfi -i anullsrc=r=44100:cl=mono -t 10 -q:a 9 -acodec libmp3lame Temp.mp3"
      ],
      "metadata": {
        "id": "lmYJDJdP8sDV"
      },
      "execution_count": null,
      "outputs": []
    },
    {
      "cell_type": "code",
      "source": [
        "driver = GraphDatabase.driver(\"Neo4j Bolt IP Address\",\n",
        "                              auth=(\"user name\",\n",
        "                                    \"password\"))"
      ],
      "metadata": {
        "id": "IPb5_VY_Ps5t"
      },
      "execution_count": null,
      "outputs": []
    },
    {
      "cell_type": "code",
      "source": [
        "output_1 = gr.Textbox(label=\"Speech to Text\")\n",
        "output_2 = gr.Textbox(label=\"Google PaLM 2 Model Output along with Neo4j\")\n",
        "output_3 = gr.Audio(\"Temp.mp3\")\n",
        "\n",
        "gr.Interface(\n",
        "    title = 'Google PaLM2 Model with Whisper & ASR Gradio Web UI',\n",
        "    fn = transcribe,\n",
        "    inputs=[\n",
        "        gr.inputs.Audio(source=\"microphone\", type=\"filepath\")\n",
        "    ],\n",
        "\n",
        "    outputs=[\n",
        "        output_1,  output_2, output_3\n",
        "    ],\n",
        "    live=True).launch(debug=True)"
      ],
      "metadata": {
        "id": "WXXhGoyLT1vV"
      },
      "execution_count": null,
      "outputs": []
    },
    {
      "cell_type": "code",
      "source": [],
      "metadata": {
        "id": "UlBZ0LpWUC20"
      },
      "execution_count": null,
      "outputs": []
    }
  ]
}